{
 "cells": [
  {
   "cell_type": "code",
   "execution_count": 5,
   "id": "6f335d31-fb63-4998-8ec9-ba5e49a826be",
   "metadata": {},
   "outputs": [
    {
     "name": "stdout",
     "output_type": "stream",
     "text": [
      "0.1 0.4\n",
      "0.04000000000000001\n",
      "0.5 0.3\n",
      "0.19\n",
      "0.2 0.6\n",
      "0.31\n"
     ]
    },
    {
     "data": {
      "text/plain": [
       "'0'"
      ]
     },
     "execution_count": 5,
     "metadata": {},
     "output_type": "execute_result"
    }
   ],
   "source": [
    "x_input = [0.1, 0.5, 0.2]\n",
    "w_weights = [0.4, 0.3, 0.6]\n",
    "thresold = 0.5\n",
    "\n",
    "def activation_function(weighted_sum):\n",
    "    if weighted_sum > thresold:\n",
    "        return 1\n",
    "    else:\n",
    "        return 0\n",
    "\n",
    "def perceptron():\n",
    "    weighted_sum = 0\n",
    "    for x,w in zip(x_input, w_weights):\n",
    "        weighted_sum += x*w\n",
    "        print(weighted_sum)\n",
    "    return activation_function(weighted_sum)\n",
    "\n",
    "output = perceptron()\n",
    "str(output)"
   ]
  },
  {
   "cell_type": "code",
   "execution_count": null,
   "id": "965d0d13-9e0c-4b0e-891a-ae4dc4b2c092",
   "metadata": {},
   "outputs": [],
   "source": []
  }
 ],
 "metadata": {
  "kernelspec": {
   "display_name": "Python 3 (ipykernel)",
   "language": "python",
   "name": "python3"
  },
  "language_info": {
   "codemirror_mode": {
    "name": "ipython",
    "version": 3
   },
   "file_extension": ".py",
   "mimetype": "text/x-python",
   "name": "python",
   "nbconvert_exporter": "python",
   "pygments_lexer": "ipython3",
   "version": "3.12.6"
  }
 },
 "nbformat": 4,
 "nbformat_minor": 5
}
