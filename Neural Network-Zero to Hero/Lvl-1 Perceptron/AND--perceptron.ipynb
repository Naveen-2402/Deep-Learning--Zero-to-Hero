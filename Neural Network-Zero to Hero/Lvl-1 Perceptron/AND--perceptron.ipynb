{
 "cells": [
  {
   "cell_type": "code",
   "execution_count": null,
   "id": "ac0da5f0-d88d-4e81-bf64-dfb441bafd5e",
   "metadata": {},
   "outputs": [],
   "source": [
    "# Performing AND operation using a perceptron algorithm\n",
    "\n",
    "# We are implementing a perceptron to simulate the AND operation. \n",
    "# The perceptron takes two binary inputs (`x1` and `x2`) and produces a single binary output (`y`).\n",
    "# The weights (`w`) are updated during training to minimize the error between the predicted output (`y_hat`) and the target output (`y`).\n",
    "# The goal is to learn the correct weights such that the perceptron correctly outputs the AND operation for all input combinations."
   ]
  },
  {
   "cell_type": "code",
   "execution_count": 1,
   "id": "a037bf72-1602-44cf-9d33-c65d29f20fe3",
   "metadata": {},
   "outputs": [],
   "source": [
    "x1 = [0, 0, 1, 1]\n",
    "x2 = [0, 1, 0, 1]\n",
    "\n",
    "y = [0, 0, 0, 1]   # Expected outputs for AND operation\n",
    "y_hat = [0, 0, 0, 0]   # Placeholder for predicted outputs\n",
    "\n",
    "w = [0.3, -0.2]    # [w1 -> weight of x1, w2 -> weight of x2]\n",
    "threshold = 0.4\n",
    "learning_rate = 0.2\n",
    "\n",
    "status = [\"Changed\", \"Changed\", \"Changed\", \"Changed\"]    ## Initializing status list to track if any update happened"
   ]
  },
  {
   "cell_type": "code",
   "execution_count": 2,
   "id": "e8faf1d1-b2f6-43be-bde4-201693e577c3",
   "metadata": {},
   "outputs": [],
   "source": [
    "def activation_function(weighted_sum):   # Activation function to apply threshold\n",
    "    if weighted_sum >= threshold:      #binary step function to classify based on threshold\n",
    "        return 1\n",
    "    else:\n",
    "        return 0"
   ]
  },
  {
   "cell_type": "code",
   "execution_count": 3,
   "id": "9023a4c3-904e-43ba-a9b2-b3c969ffff12",
   "metadata": {},
   "outputs": [],
   "source": [
    "def update_weight(error, x):     # new weight = old weight + (learning_rate * error * input value)\n",
    "    for i in range(0, len(w)):\n",
    "        w[i] += learning_rate * error * x[i]"
   ]
  },
  {
   "cell_type": "code",
   "execution_count": 4,
   "id": "c388782f-dfe2-4fb6-aeb6-d51239a72cd4",
   "metadata": {},
   "outputs": [],
   "source": [
    "def perceptron(x1, x2, y):\n",
    "    count = 0;\n",
    "    while \"Changed\" in status:      # Keep iterating until no changes are made\n",
    "        count += 1\n",
    "        for i in range(0,len(y)):\n",
    "            x = [x1[i], x2[i]]\n",
    "            weighted_sum = ((x1[i] * w[0]) + (x2[i] * w[1]))     # Weighted sum = Summation of input * weight\n",
    "            y_hat[i] = activation_function(weighted_sum)         # Apply activation function to the weighted sum\n",
    "            error = y[i] - y_hat[i]               # error = Actual output - Predicted OutPut\n",
    "            if error!= 0:        # If error exists, update weights\n",
    "                print(\"Epoch :\", count,\"Error at \",i,\"is\",error)\n",
    "                update_weight(error, x)        # Adjust weights based on error\n",
    "                status[i] = \"Changed\"\n",
    "            else:\n",
    "                status[i] = \"Not Changed\"\n",
    "    return count"
   ]
  },
  {
   "cell_type": "code",
   "execution_count": 5,
   "id": "f883b465-9283-4640-b30b-59189571f1f9",
   "metadata": {},
   "outputs": [
    {
     "name": "stdout",
     "output_type": "stream",
     "text": [
      "Epoch : 1 Error at  3 is 1\n",
      "Epoch : 2 Error at  2 is -1\n",
      "Epoch : 2 Error at  3 is 1\n",
      "Epoch : 3 Error at  2 is -1\n",
      "Total Epoch : 4\n",
      "Updated weight : [0.3, 0.2]\n",
      "0 AND 0 = 0\n",
      "0 AND 1 = 0\n",
      "1 AND 0 = 0\n",
      "1 AND 1 = 1\n"
     ]
    }
   ],
   "source": [
    "epoch = perceptron(x1, x2, y)\n",
    "print(\"Total Epoch :\", epoch)\n",
    "print(\"Updated weight :\", w)\n",
    "for i in range(0,len(y)):\n",
    "    print(x1[i], \"AND\", x2[i], \"=\", y_hat[i])"
   ]
  },
  {
   "cell_type": "code",
   "execution_count": null,
   "id": "b8475569-3789-4f0b-94df-1344c33a0692",
   "metadata": {},
   "outputs": [],
   "source": []
  }
 ],
 "metadata": {
  "kernelspec": {
   "display_name": "Python 3 (ipykernel)",
   "language": "python",
   "name": "python3"
  },
  "language_info": {
   "codemirror_mode": {
    "name": "ipython",
    "version": 3
   },
   "file_extension": ".py",
   "mimetype": "text/x-python",
   "name": "python",
   "nbconvert_exporter": "python",
   "pygments_lexer": "ipython3",
   "version": "3.12.6"
  }
 },
 "nbformat": 4,
 "nbformat_minor": 5
}
